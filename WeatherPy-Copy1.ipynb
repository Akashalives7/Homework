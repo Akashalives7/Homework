{
 "cells": [
  {
   "cell_type": "code",
   "execution_count": 74,
   "metadata": {
    "scrolled": true
   },
   "outputs": [],
   "source": [
    "# Dependencies and Setup\n",
    "import matplotlib.pyplot as plt\n",
    "import pandas as pd\n",
    "import numpy as np\n",
    "import requests\n",
    "import time\n",
    "import json\n",
    "\n",
    "# Import API key\n",
    "from api_keys import api_key\n",
    "\n",
    "# Incorporated citipy to determine city based on latitude and longitude\n",
    "from citipy import citipy\n",
    "\n",
    "# Output File (CSV)\n",
    "output_data_file = \"output_data/cities.csv\"\n",
    "\n",
    "# Range of latitudes and longitudes\n",
    "lat_range = (-90, 90)\n",
    "lng_range = (-180, 180)"
   ]
  },
  {
   "cell_type": "markdown",
   "metadata": {},
   "source": [
    "## Generate Cities List"
   ]
  },
  {
   "cell_type": "code",
   "execution_count": 124,
   "metadata": {},
   "outputs": [
    {
     "name": "stdout",
     "output_type": "stream",
     "text": [
      "['rikitea', 'nome', 'san cristobal', 'albany', 'hermanus', 'victoria', 'ascension', 'lebu', 'busselton', 'filimonovo', 'arlit', 'yellowknife', 'portland', 'isangel', 'barrow', 'vardo', 'tazovskiy', 'hobart', 'mumford', 'chokurdakh', 'saint-philippe', 'viedma', 'port elizabeth', 'catio', 'kapaa', 'linxia', 'bluff', 'hithadhoo', 'westport', 'kuytun', 'najran', 'coquimbo', 'new norfolk', 'socorro', 'mys shmidta', 'chapais', 'punta arenas', 'vaini', 'gazli', 'kaeo', 'airai', 'torquay', 'belushya guba', 'thompson', 'cabra', 'fairbanks', 'taolanaro', 'avera', 'petropavlovsk-kamchatskiy', 'baculin', 'ushuaia', 'eureka', 'cape town', 'loiza', 'hilo', 'lata', 'oudtshoorn', 'shingu', 'arraial do cabo', 'ewa beach', 'atuona', 'urdzhar', 'mocambique', 'gerash', 'carballo', 'college', 'clyde river', 'safaga', 'nikolskoye', 'bredasdorp', 'butaritari', 'port hedland', 'mar del plata', 'illoqqortoormiut', 'brae', 'touros', 'paragominas', 'kavieng', 'hasaki', 'razole', 'yar-sale', 'manoel urbano', 'katsuura', 'dikson', 'bengkulu', 'sento se', 'sisimiut', 'ponta do sol', 'barentsburg', 'verkhnevilyuysk', 'saldanha', 'qaanaaq', 'bandarbeyla', 'codrington', 'villarrica', 'padang', 'mahibadhoo', 'thinadhoo', 'galesong', 'los llanos de aridane', 'tuktoyaktuk', 'manadhoo', 'amderma', 'beni suef', 'soyo', 'upernavik', 'talnakh', 'haibowan', 'sao filipe', 'caravelas', 'coahuayana', 'khatanga', 'san policarpo', 'constitucion', 'merauke', 'carnarvon', 'lorengau', 'mataura', 'korgen', 'burnie', 'rafraf', 'tasiilaq', 'kayanza', 'kavaratti', 'vanavara', 'emba', 'ribeira grande', 'tubig indangan', 'mahebourg', 'rundu', 'lolua', 'chodavaram', 'wajima', 'mount isa', 'soke', 'itoman', 'jumla', 'juneau', 'warmbad', 'cidreira', 'acapulco', 'port lincoln', 'onguday', 'mount darwin', 'aklavik', 'yulara', 'broome', 'khandyga', 'domoni', 'khonuu', 'puerto ayora', 'vila franca do campo', 'cayenne', 'port alfred', 'puerto narino', 'sistranda', 'richards bay', 'meyungs', 'tuatapere', 'avarua', 'vredendal', 'huayang', 'provideniya', 'ahuimanu', 'east london', 'lompoc', 'narsaq', 'champerico', 'zorritos', 'aswan', 'hovd', 'quesnel', 'wana', 'vestmannaeyjar', 'wulanhaote', 'longyearbyen', 'samusu', 'kang', 'abu kamal', 'saint-denis', 'bambous virieux', 'jamestown', 'araouane', 'uruguaiana', 'cherskiy', 'zambezi', 'halalo', 'nantucket', 'pitimbu', 'kandrian', 'gamba', 'hualmay', 'chimore', 'kiama', 'saskylakh', 'guiyang', 'kawalu', 'yeppoon', 'palmerston', 'oranjestad', 'jimenez', 'thunder bay', 'geraldton', 'myra', 'alingsas', 'hofn', 'jabiru', 'bontang', 'komsomolskiy', 'kiruna', 'saint-joseph', 'sitka', 'locri', 'georgetown', 'faanui', 'louisbourg', 'moerai', 'tiksi', 'ibague', 'sorland', 'castro', 'bilibino', 'port hawkesbury', 'aykhal', 'riom', 'luderitz', 'chachapoyas', 'rock springs', 'maniitsoq', 'lavrentiya', 'calvia', 'noumea', 'namatanai', 'yarada', 'fare', 'quatre cocos', 'west lafayette', 'srednekolymsk', 'ust-maya', 'tahoua', 'palabuhanratu', 'saint-pierre', 'akdepe', 'gat', 'biak', 'ilulissat', 'san patricio', 'ulaangom', 'namibe', 'teluk nibung', 'olafsvik', 'vaitupu', 'san quintin', 'namie', 'baruun-urt', 'vanimo', 'yermekeyevo', 'saint anthony', 'quime', 'swift current', 'ocampo', 'malatya', 'tamandare', 'taoudenni', 'sur', 'ambon', 'saint george', 'kaitangata', 'solms', 'borazjan', 'torbay', 'jaisalmer', 'ulety', 'moron', 'manono', 'camopi', 'comodoro rivadavia', 'sao jose da coroa grande', 'ayan', 'bira', 'pangnirtung', 'kenai', 'flinders', 'sainte-suzanne', 'port blair', 'coos bay', 'el cobre', 'atar', 'saint-francois', 'newport', 'tsihombe', 'waipawa', 'kodiak', 'tumannyy', 'wajid', 'altay', 'gornopravdinsk', 'bima', 'walvis bay', 'iqaluit', 'machiques', 'meulaboh', 'ambulu', 'izhmorskiy', 'saint-georges', 'haines junction', 'yongan', 'attawapiskat', 'katobu', 'ormara', 'barawe', 'elat', 'fortuna', 'mikhaylovka', 'vostok', 'blora', 'aitape', 'lincoln', 'nioro', 'nanortalik', 'kimbe', 'severo-kurilsk', 'harper', 'porbandar', 'muros', 'zalantun', 'maloyaz', 'saleaula', 'marawi', 'malwan', 'ye', 'vao', 'omsukchan', 'parabel', 'svetlogorsk', 'amapa', 'manjakandriana', 'redmond', 'ondorhaan', 'turukhansk', 'yuzhne', 'la ronge', 'tocopilla', 'traverse city', 'zacatepec', 'salinopolis', 'okato', 'ucluelet', 'shar', 'honiara', 'podgornoye', 'laranjeiras do sul', 'chaa-khol', 'teguldet', 'weinan', 'isiolo', 'tiznit', 'navahrudak', 'brandon', 'antofagasta', 'williamsburg', 'nguiu', 'beringovskiy', 'sibolga', 'husavik', 'hokitika', 'kandalaksha', 'jacareacanga', 'dingle', 'frankfort', 'yuncheng', 'kungurtug', 'celestun', 'mendota', 'grootfontein', 'cristalina', 'ketchikan', 'pereira barreto', 'callaway', 'praia da vitoria', 'marienberg', 'ponta delgada', 'caxito', 'banff', 'tautira', 'whitehorse', 'polyarnyy', 'zhuozhou', 'paita', 'pevek', 'alofi', 'sofiysk', 'necochea', 'bosaso', 'belaya gora', 'bengkalis', 'san ramon de la nueva oran', 'nybro', 'colac', 'rio gallegos', 'andenes', 'hit', 'tabas', 'kieta', 'kangavar', 'bethel', 'ancud', 'trairi', 'zafra', 'wilmington', 'bataipora', 'pizarro', 'qasigiannguit', 'puerto escondido', 'tidore', 'blind river', 'sol-iletsk', 'morehead', 'pangai', 'puerto madryn', 'klaksvik', 'praia', 'mount gambier', 'playas', 'nizhneyansk', 'jibuti', 'kachug', 'lerwick', 'bantou', 'grand gaube', 'coutances', 'hendrina', 'la romana', 'port augusta', 'mahon', 'matay', 'shiyan', 'uyemskiy', 'ust-tsilma', 'poum', 'alyangula', 'toliary', 'libreville', 'pacific grove', 'marcona', 'ust-kamchatsk', 'cairns', 'touho', 'leningradskiy', 'jaszszentandras', 'egvekinot', 'vila velha', 'suchiapa', 'camana', 'lodwar', 'mogadishu', 'lac du bonnet', 'alta floresta', 'souris', 'zapolyarnyy', 'esperance', 'tahta', 'rawannawi', 'pemberton', 'carutapera', 'lixourion', 'kununurra', 'nishihara', 'laguna', 'safakulevo', 'doctor pedro p. pena', 'derzhavinsk', 'mookane', 'ituni', 'huarmey', 'belyy yar', 'fushun', 'sao joao da barra', 'khash', 'chuy', 'plouzane', 'willowmore', 'surt', 'ahipara', 'del rio', 'male', 'ushtobe', 'lufilufi', 'xiaoshan', 'marsa matruh', 'inuvik', 'san rafael', 'outjo', 'mildura', 'payo', 'fonte boa', 'evensk', 'road town', 'sahuaripa', 'berlevag', 'karratha', 'ust-ishim', 'chicama', 'mirabad', 'chamba', 'bonthe', 'santa isabel do rio negro', 'khandbari', 'salalah', 'calderitas', 'rocha', 'huanren', 'acarau', 'beloha', 'saint-augustin', 'bilozerka', 'ternate', 'fomboni', 'belgrade', 'cortland', 'mujiayingzi', 'sudak', 'pavlodar', 'nara', 'alice springs', 'mangile', 'kutum', 'kirakira', 'chaumont', 'dryden', 'roald', 'joshimath', 'bayangol', 'ulladulla', 'puerto del rosario', 'blonduos', 'guzelyurt', 'izhma', 'elko', 'blairmore', 'corrente', 'verkhnyaya inta', 'upington', 'tianpeng', 'niquero', 'aloja', 'khasan', 'darhan', 'yanchukan', 'hurricane', 'kruisfontein', 'flin flon', 'de panne', 'sefophe', 'beruwala', 'kamenskoye', 'madre de deus', 'naze', 'shirokovskiy', 'kamalpur', 'wuda', 'jega', 'marienburg', 'khor', 'honningsvag', 'hailin', 'lake city', 'luau', 'barbar', 'garm', 'springfield', 'bolshaya chernigovka', 'sinnamary', 'nago', 'chatrapur', 'kasongo-lunda', 'wanning', 'chaplynka', 'wamba', 'san vicente de canete', 'chandil', 'tyukhtet', 'abaete', 'trelew', 'itarema', 'craig', 'baherden', 'kazerun', 'ontario', 'khani', 'maykor', 'bargal', 'aflu', 'cleburne', 'menongue', 'nuuk', 'hay river', 'armidale']\n"
     ]
    }
   ],
   "source": [
    "# List for holding lat_lngs and cities\n",
    "lat_lngs = []\n",
    "cities = []\n",
    "\n",
    "# Create a set of random lat and lng combinations\n",
    "lats = np.random.uniform(low=-90.000, high=90.000, size=1500)\n",
    "lngs = np.random.uniform(low=-180.000, high=180.000, size=1500)\n",
    "lat_lngs = zip(lats, lngs)\n",
    "\n",
    "# Identify nearest city for each lat, lng combination\n",
    "for lat_lng in lat_lngs:\n",
    "    city = citipy.nearest_city(lat_lng[0], lat_lng[1]).city_name\n",
    "    \n",
    "    # If the city is unique, then add it to a our cities list\n",
    "    if city not in cities:\n",
    "        cities.append(city)\n",
    "\n",
    "# Print the city count to confirm sufficient count\n",
    "len(cities)\n",
    "print(cities)"
   ]
  },
  {
   "cell_type": "markdown",
   "metadata": {},
   "source": [
    "## Perform API Calls"
   ]
  },
  {
   "cell_type": "code",
   "execution_count": 96,
   "metadata": {},
   "outputs": [
    {
     "name": "stdout",
     "output_type": "stream",
     "text": [
      "http://api.openweathermap.org/data/2.5/weather?appid=4b33165d8136ef7687d9799ecdffc091&q=\n"
     ]
    }
   ],
   "source": [
    "# OpenWeatherMap API Key\n",
    "api_key = api_keys.api_key\n",
    "\n",
    "# Starting URL for Weather Map API Call\n",
    "url = \"http://api.openweathermap.org/data/2.5/weather?\"\n",
    "\n",
    "query_url=f\"{url}appid={api_key}&q=\"\n",
    "print(query_url)"
   ]
  },
  {
   "cell_type": "code",
   "execution_count": 129,
   "metadata": {
    "scrolled": true
   },
   "outputs": [
    {
     "name": "stdout",
     "output_type": "stream",
     "text": [
      "[['rikitea', 'nome', 'san cristobal', 'albany', 'hermanus', 'victoria', 'ascension', 'lebu', 'busselton', 'filimonovo', 'arlit', 'yellowknife', 'portland', 'isangel', 'barrow', 'vardo', 'tazovskiy', 'hobart', 'mumford', 'chokurdakh', 'saint-philippe', 'viedma', 'port elizabeth', 'catio', 'kapaa', 'linxia', 'bluff', 'hithadhoo', 'westport', 'kuytun', 'najran', 'coquimbo', 'new norfolk', 'socorro', 'mys shmidta', 'chapais', 'punta arenas', 'vaini', 'gazli', 'kaeo', 'airai', 'torquay', 'belushya guba', 'thompson', 'cabra', 'fairbanks', 'taolanaro', 'avera', 'petropavlovsk-kamchatskiy', 'baculin', 'ushuaia', 'eureka', 'cape town', 'loiza', 'hilo', 'lata', 'oudtshoorn', 'shingu', 'arraial do cabo', 'ewa beach', 'atuona', 'urdzhar', 'mocambique', 'gerash', 'carballo', 'college', 'clyde river', 'safaga', 'nikolskoye', 'bredasdorp', 'butaritari', 'port hedland', 'mar del plata', 'illoqqortoormiut', 'brae', 'touros', 'paragominas', 'kavieng', 'hasaki', 'razole', 'yar-sale', 'manoel urbano', 'katsuura', 'dikson', 'bengkulu', 'sento se', 'sisimiut', 'ponta do sol', 'barentsburg', 'verkhnevilyuysk', 'saldanha', 'qaanaaq', 'bandarbeyla', 'codrington', 'villarrica', 'padang', 'mahibadhoo', 'thinadhoo', 'galesong', 'los llanos de aridane', 'tuktoyaktuk', 'manadhoo', 'amderma', 'beni suef', 'soyo', 'upernavik', 'talnakh', 'haibowan', 'sao filipe', 'caravelas', 'coahuayana', 'khatanga', 'san policarpo', 'constitucion', 'merauke', 'carnarvon', 'lorengau', 'mataura', 'korgen', 'burnie', 'rafraf', 'tasiilaq', 'kayanza', 'kavaratti', 'vanavara', 'emba', 'ribeira grande', 'tubig indangan', 'mahebourg', 'rundu', 'lolua', 'chodavaram', 'wajima', 'mount isa', 'soke', 'itoman', 'jumla', 'juneau', 'warmbad', 'cidreira', 'acapulco', 'port lincoln', 'onguday', 'mount darwin', 'aklavik', 'yulara', 'broome', 'khandyga', 'domoni', 'khonuu', 'puerto ayora', 'vila franca do campo', 'cayenne', 'port alfred', 'puerto narino', 'sistranda', 'richards bay', 'meyungs', 'tuatapere', 'avarua', 'vredendal', 'huayang', 'provideniya', 'ahuimanu', 'east london', 'lompoc', 'narsaq', 'champerico', 'zorritos', 'aswan', 'hovd', 'quesnel', 'wana', 'vestmannaeyjar', 'wulanhaote', 'longyearbyen', 'samusu', 'kang', 'abu kamal', 'saint-denis', 'bambous virieux', 'jamestown', 'araouane', 'uruguaiana', 'cherskiy', 'zambezi', 'halalo', 'nantucket', 'pitimbu', 'kandrian', 'gamba', 'hualmay', 'chimore', 'kiama', 'saskylakh', 'guiyang', 'kawalu', 'yeppoon', 'palmerston', 'oranjestad', 'jimenez', 'thunder bay', 'geraldton', 'myra', 'alingsas', 'hofn', 'jabiru', 'bontang', 'komsomolskiy', 'kiruna', 'saint-joseph', 'sitka', 'locri', 'georgetown', 'faanui', 'louisbourg', 'moerai', 'tiksi', 'ibague', 'sorland', 'castro', 'bilibino', 'port hawkesbury', 'aykhal', 'riom', 'luderitz', 'chachapoyas', 'rock springs', 'maniitsoq', 'lavrentiya', 'calvia', 'noumea', 'namatanai', 'yarada', 'fare', 'quatre cocos', 'west lafayette', 'srednekolymsk', 'ust-maya', 'tahoua', 'palabuhanratu', 'saint-pierre', 'akdepe', 'gat', 'biak', 'ilulissat', 'san patricio', 'ulaangom', 'namibe', 'teluk nibung', 'olafsvik', 'vaitupu', 'san quintin', 'namie', 'baruun-urt', 'vanimo', 'yermekeyevo', 'saint anthony', 'quime', 'swift current', 'ocampo', 'malatya', 'tamandare', 'taoudenni', 'sur', 'ambon', 'saint george', 'kaitangata', 'solms', 'borazjan', 'torbay', 'jaisalmer', 'ulety', 'moron', 'manono', 'camopi', 'comodoro rivadavia', 'sao jose da coroa grande', 'ayan', 'bira', 'pangnirtung', 'kenai', 'flinders', 'sainte-suzanne', 'port blair', 'coos bay', 'el cobre', 'atar', 'saint-francois', 'newport', 'tsihombe', 'waipawa', 'kodiak', 'tumannyy', 'wajid', 'altay', 'gornopravdinsk', 'bima', 'walvis bay', 'iqaluit', 'machiques', 'meulaboh', 'ambulu', 'izhmorskiy', 'saint-georges', 'haines junction', 'yongan', 'attawapiskat', 'katobu', 'ormara', 'barawe', 'elat', 'fortuna', 'mikhaylovka', 'vostok', 'blora', 'aitape', 'lincoln', 'nioro', 'nanortalik', 'kimbe', 'severo-kurilsk', 'harper', 'porbandar', 'muros', 'zalantun', 'maloyaz', 'saleaula', 'marawi', 'malwan', 'ye', 'vao', 'omsukchan', 'parabel', 'svetlogorsk', 'amapa', 'manjakandriana', 'redmond', 'ondorhaan', 'turukhansk', 'yuzhne', 'la ronge', 'tocopilla', 'traverse city', 'zacatepec', 'salinopolis', 'okato', 'ucluelet', 'shar', 'honiara', 'podgornoye', 'laranjeiras do sul', 'chaa-khol', 'teguldet', 'weinan', 'isiolo', 'tiznit', 'navahrudak', 'brandon', 'antofagasta', 'williamsburg', 'nguiu', 'beringovskiy', 'sibolga', 'husavik', 'hokitika', 'kandalaksha', 'jacareacanga', 'dingle', 'frankfort', 'yuncheng', 'kungurtug', 'celestun', 'mendota', 'grootfontein', 'cristalina', 'ketchikan', 'pereira barreto', 'callaway', 'praia da vitoria', 'marienberg', 'ponta delgada', 'caxito', 'banff', 'tautira', 'whitehorse', 'polyarnyy', 'zhuozhou', 'paita', 'pevek', 'alofi', 'sofiysk', 'necochea', 'bosaso', 'belaya gora', 'bengkalis', 'san ramon de la nueva oran', 'nybro', 'colac', 'rio gallegos', 'andenes', 'hit', 'tabas', 'kieta', 'kangavar', 'bethel', 'ancud', 'trairi', 'zafra', 'wilmington', 'bataipora', 'pizarro', 'qasigiannguit', 'puerto escondido', 'tidore', 'blind river', 'sol-iletsk', 'morehead', 'pangai', 'puerto madryn', 'klaksvik', 'praia', 'mount gambier', 'playas', 'nizhneyansk', 'jibuti', 'kachug', 'lerwick', 'bantou', 'grand gaube', 'coutances', 'hendrina', 'la romana', 'port augusta', 'mahon', 'matay', 'shiyan', 'uyemskiy', 'ust-tsilma', 'poum', 'alyangula', 'toliary', 'libreville', 'pacific grove', 'marcona', 'ust-kamchatsk', 'cairns', 'touho', 'leningradskiy', 'jaszszentandras', 'egvekinot', 'vila velha', 'suchiapa', 'camana', 'lodwar', 'mogadishu', 'lac du bonnet', 'alta floresta', 'souris', 'zapolyarnyy', 'esperance', 'tahta', 'rawannawi', 'pemberton', 'carutapera', 'lixourion', 'kununurra', 'nishihara', 'laguna', 'safakulevo', 'doctor pedro p. pena', 'derzhavinsk', 'mookane', 'ituni', 'huarmey', 'belyy yar', 'fushun', 'sao joao da barra', 'khash', 'chuy', 'plouzane', 'willowmore', 'surt', 'ahipara', 'del rio', 'male', 'ushtobe', 'lufilufi', 'xiaoshan', 'marsa matruh', 'inuvik', 'san rafael', 'outjo', 'mildura', 'payo', 'fonte boa', 'evensk', 'road town', 'sahuaripa', 'berlevag', 'karratha', 'ust-ishim', 'chicama', 'mirabad', 'chamba', 'bonthe', 'santa isabel do rio negro', 'khandbari', 'salalah', 'calderitas', 'rocha', 'huanren', 'acarau', 'beloha', 'saint-augustin', 'bilozerka', 'ternate', 'fomboni', 'belgrade', 'cortland', 'mujiayingzi', 'sudak', 'pavlodar', 'nara', 'alice springs', 'mangile', 'kutum', 'kirakira', 'chaumont', 'dryden', 'roald', 'joshimath', 'bayangol', 'ulladulla', 'puerto del rosario', 'blonduos', 'guzelyurt', 'izhma', 'elko', 'blairmore', 'corrente', 'verkhnyaya inta', 'upington', 'tianpeng', 'niquero', 'aloja', 'khasan', 'darhan', 'yanchukan', 'hurricane', 'kruisfontein', 'flin flon', 'de panne', 'sefophe', 'beruwala', 'kamenskoye', 'madre de deus', 'naze', 'shirokovskiy', 'kamalpur', 'wuda', 'jega', 'marienburg', 'khor', 'honningsvag', 'hailin', 'lake city', 'luau', 'barbar', 'garm', 'springfield', 'bolshaya chernigovka', 'sinnamary', 'nago', 'chatrapur', 'kasongo-lunda', 'wanning', 'chaplynka', 'wamba', 'san vicente de canete', 'chandil', 'tyukhtet', 'abaete', 'trelew', 'itarema', 'craig', 'baherden', 'kazerun', 'ontario', 'khani', 'maykor', 'bargal', 'aflu', 'cleburne', 'menongue', 'nuuk', 'hay river', 'armidale']]\n"
     ]
    }
   ],
   "source": [
    "city_list = [cities]\n",
    "print(city_list)"
   ]
  },
  {
   "cell_type": "code",
   "execution_count": null,
   "metadata": {},
   "outputs": [
    {
     "name": "stdout",
     "output_type": "stream",
     "text": [
      "City has no data\n",
      "City has no data\n",
      "City has no data\n",
      "City has no data\n",
      "City has no data\n",
      "City has no data\n",
      "City has no data\n",
      "City has no data\n",
      "City has no data\n",
      "City has no data\n",
      "City has no data\n",
      "City has no data\n",
      "City has no data\n",
      "City has no data\n",
      "City has no data\n",
      "City has no data\n",
      "City has no data\n",
      "City has no data\n",
      "City has no data\n",
      "City has no data\n",
      "City has no data\n",
      "City has no data\n",
      "City has no data\n",
      "City has no data\n",
      "City has no data\n",
      "City has no data\n",
      "City has no data\n",
      "City has no data\n",
      "City has no data\n",
      "City has no data\n",
      "City has no data\n",
      "City has no data\n",
      "City has no data\n",
      "City has no data\n",
      "City has no data\n",
      "City has no data\n",
      "City has no data\n",
      "City has no data\n",
      "City has no data\n",
      "City has no data\n",
      "City has no data\n",
      "City has no data\n",
      "City has no data\n",
      "City has no data\n"
     ]
    }
   ],
   "source": [
    "#set up lists to hold response info\n",
    "temp = []\n",
    "humidity = []\n",
    "clouds = []\n",
    "wind = []\n",
    "\n",
    "# Loop through the list of cities and perform a request for data on each.\n",
    "for city in city_list[0]:\n",
    "    response = requests.get(query_url + city).json()\n",
    "    try:\n",
    "        lat.append(response['coord']['lat'])\n",
    "#    temp.append(response['main']['temp'])\n",
    "#    humidity.append(response['main']['humidity'])\n",
    "#    clouds.append(response['clouds']['all'])\n",
    "#    wind.append(response['wind']['speed'])\n",
    "    except: \n",
    "        print(\"City has no data\")\n",
    "    \n",
    "# Get the temp, humidity, cloudiness and wind speed from the response\n",
    "print(f\"The Latitude information received is: {lat}\")\n",
    "#print(f\"The Temperature information received is: {temp}\")\n",
    "#print(f\"The Humidity information received is: {humidity}\")\n",
    "#print(f\"The Cloudiness information received is: {clouds}\")\n",
    "#print(f\"The Wind Speed information received is: {wind}\")"
   ]
  },
  {
   "cell_type": "code",
   "execution_count": null,
   "metadata": {},
   "outputs": [],
   "source": []
  },
  {
   "cell_type": "code",
   "execution_count": null,
   "metadata": {},
   "outputs": [],
   "source": []
  }
 ],
 "metadata": {
  "anaconda-cloud": {},
  "kernelspec": {
   "display_name": "Python 3",
   "language": "python",
   "name": "python3"
  },
  "language_info": {
   "codemirror_mode": {
    "name": "ipython",
    "version": 3
   },
   "file_extension": ".py",
   "mimetype": "text/x-python",
   "name": "python",
   "nbconvert_exporter": "python",
   "pygments_lexer": "ipython3",
   "version": "3.6.5"
  }
 },
 "nbformat": 4,
 "nbformat_minor": 1
}
