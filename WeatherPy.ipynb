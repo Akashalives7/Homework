{
 "cells": [
  {
   "cell_type": "code",
   "execution_count": 169,
   "metadata": {
    "scrolled": true
   },
   "outputs": [],
   "source": [
    "# Dependencies and Setup\n",
    "import matplotlib.pyplot as plt\n",
    "import pandas as pd\n",
    "import numpy as np\n",
    "import requests\n",
    "import time\n",
    "import json\n",
    "\n",
    "# Import API key\n",
    "from api_keys import api_key\n",
    "\n",
    "# Incorporated citipy to determine city based on latitude and longitude\n",
    "from citipy import citipy\n",
    "\n",
    "# Output File (CSV)\n",
    "output_data_file = \"output_data/cities.csv\"\n",
    "\n",
    "# Range of latitudes and longitudes\n",
    "lat_range = (-90, 90)\n",
    "lng_range = (-180, 180)"
   ]
  },
  {
   "cell_type": "markdown",
   "metadata": {},
   "source": [
    "## Generate Cities List"
   ]
  },
  {
   "cell_type": "code",
   "execution_count": 170,
   "metadata": {},
   "outputs": [
    {
     "data": {
      "text/plain": [
       "636"
      ]
     },
     "execution_count": 170,
     "metadata": {},
     "output_type": "execute_result"
    }
   ],
   "source": [
    "# List for holding lat_lngs and cities\n",
    "lat_lngs = []\n",
    "cities = []\n",
    "\n",
    "# Create a set of random lat and lng combinations\n",
    "lats = np.random.uniform(low=-90.000, high=90.000, size=1500)\n",
    "lngs = np.random.uniform(low=-180.000, high=180.000, size=1500)\n",
    "lat_lngs = zip(lats, lngs)\n",
    "\n",
    "# Identify nearest city for each lat, lng combination\n",
    "for lat_lng in lat_lngs:\n",
    "    city = citipy.nearest_city(lat_lng[0], lat_lng[1]).city_name\n",
    "    \n",
    "    # If the city is unique, then add it to a our cities list\n",
    "    if city not in cities:\n",
    "        cities.append(city)\n",
    "\n",
    "# Print the city count to confirm sufficient count\n",
    "len(cities)"
   ]
  },
  {
   "cell_type": "markdown",
   "metadata": {},
   "source": [
    "## Perform API Calls"
   ]
  },
  {
   "cell_type": "code",
   "execution_count": 171,
   "metadata": {},
   "outputs": [
    {
     "name": "stdout",
     "output_type": "stream",
     "text": [
      "http://api.openweathermap.org/data/2.5/weather?appid=4b33165d8136ef7687d9799ecdffc091&units=imperial&q=\n"
     ]
    }
   ],
   "source": [
    "# OpenWeatherMap API Key\n",
    "api_key = api_keys.api_key\n",
    "\n",
    "# Starting URL for Weather Map API Call\n",
    "url = \"http://api.openweathermap.org/data/2.5/weather?\"\n",
    "units = \"imperial\"\n",
    "\n",
    "query_url=f\"{url}appid={api_key}&units={units}&q=\"\n",
    "print(query_url)"
   ]
  },
  {
   "cell_type": "code",
   "execution_count": 172,
   "metadata": {
    "scrolled": true
   },
   "outputs": [
    {
     "name": "stdout",
     "output_type": "stream",
     "text": [
      "['jamestown', 'naifaru', 'camacha', 'chake chake', 'kapaa', 'qaanaaq', 'norman wells', 'praia', 'malakal', 'bluff', 'provideniya', 'weinan', 'datong', 'hithadhoo', 'albany', 'brahmapuri', 'ushuaia', 'debre zeyit', 'rikitea', 'mataura', 'yarim', 'itarema', 'bethel', 'salalah', 'fort smith', 'isabela', 'nikolskoye', 'tevaitoa', 'esperance', 'airai', 'rio gallegos', 'north bend', 'hualmay', 'attawapiskat', 'bilma', 'hobart', 'petrila', 'anadyr', 'vila velha', 'broome', 'vaini', 'luderitz', 'veraval', 'taolanaro', 'carnarvon', 'urucui', 'longyearbyen', 'kizukuri', 'port alfred', 'saint george', 'nome', 'taraz', 'chokurdakh', 'tuktoyaktuk', 'severo-yeniseyskiy', 'kruisfontein', 'kita', 'harper', 'ugoofaaru', 'jutai', 'charcas', 'kyzyl-suu', 'paucartambo', 'butaritari', 'lumding', 'kimbe', 'mamallapuram', 'punta arenas', 'oranjemund', 'umzimvubu', 'saint-joseph', 'unye', 'konevo', 'belmonte', 'fairbanks', 'busselton', 'kitob', 'bengkulu', 'thompson', 'coatesville', 'avarua', 'ilulissat', 'kodiak', 'saint-philippe', 'dikson', 'amderma', 'lauria', 'ponta delgada', 'hobyo', 'toliary', 'new norfolk', 'nuuk', 'arman', 'khatanga', 'torbay', 'surt', 'puerto colombia', 'port elizabeth', 'severo-kurilsk', 'lagoa', 'tarauaca', 'chapadinha', 'haibowan', 'los llanos de aridane', 'alvin', 'puerto ayora', 'tasiilaq', 'palimbang', 'katsuura', 'chuy', 'palabuhanratu', 'umm kaddadah', 'mahebourg', 'cherskiy', 'cayenne', 'sembe', 'oxford', 'atuona', 'verkhnevilyuysk', 'flinders', 'aswan', 'inuvik', 'geraldton', 'mackenzie', 'huilong', 'kavaratti', 'mount pleasant', 'ust-nera', 'kiunga', 'tateyama', 'cam pha', 'ilhabela', 'east london', 'constitucion', 'hofn', 'usinsk', 'ribeira grande', 'arraial do cabo', 'hermanus', 'faanui', 'buala', 'winton', 'mys shmidta', 'talnakh', 'iqaluit', 'rocha', 'terra santa', 'cape town', 'sentyabrskiy', 'spornoye', 'bella union', 'lardos', 'encantado', 'isangel', 'kolokani', 'souillac', 'yellowknife', 'cidreira', 'tabiauea', 'chateau-thierry', 'vostok', 'bredasdorp', 'manzil jamil', 'moroto', 'telsiai', 'opuwo', 'aberdeen', 'petropavlovsk-kamchatskiy', 'ulaangom', 'illoqqortoormiut', 'fort nelson', 'changli', 'leningradskiy', 'faya', 'eydhafushi', 'prievidza', 'vila franca do campo', 'novokizhinginsk', 'todos santos', 'acarau', 'lebu', 'chagda', 'omsukchan', 'loei', 'humaita', 'mehamn', 'vardo', 'hilo', 'karamea', 'mackay', 'lompoc', 'dicabisagan', 'san patricio', 'namibe', 'syktyvkar', 'khandyga', 'mwinilunga', 'rach gia', 'flin flon', 'tsihombe', 'rungata', 'turukhansk', 'alta floresta', 'malwan', 'dongsheng', 'marawi', 'marcala', 'dalianwan', 'apucarana', 'peso da regua', 'bambous virieux', 'kaitangata', 'ikungi', 'verkhniye kigi', 'alofi', 'tiksi', 'komsomolskiy', 'acapulco', 'adana', 'gayeri', 'dingle', 'gimli', 'vaitupu', 'basirhat', 'cabedelo', 'grand river south east', 'rudnichnyy', 'vanavara', 'edd', 'elko', 'karratha', 'nizhneyansk', 'maraba', 'cascais', 'aleksandrov gay', 'ouesso', 'mecca', 'barrow', 'lensk', 'giddarbaha', 'chenzhou', 'tolaga bay', 'belaya gora', 'saskylakh', 'vagay', 'tumannyy', 'grande-riviere', 'saleaula', 'hollins', 'ebeltoft', 'necochea', 'barentsburg', 'labuhan', 'grindavik', 'kalianget', 'manyana', 'estelle', 'praia da vitoria', 'pevek', 'gidole', 'jijiga', 'mazagao', 'kochubey', 'huangchuan', 'sorland', 'korgen', 'port macquarie', 'mount isa', 'tautira', 'touros', 'meyungs', 'pemba', 'san quintin', 'ancud', 'kandrian', 'biloela', 'namatanai', 'haines junction', 'tual', 'salinopolis', 'pamanukan', 'castro', 'victoria', 'san cristobal', 'villa carlos paz', 'mitu', 'galesong', 'bacolod', 'oliveira dos brejinhos', 'galgani', 'macusani', 'upernavik', 'vao', 'codrington', 'camapua', 'meiktila', 'coihaique', 'kaeo', 'nobres', 'saldanha', 'juba', 'anakapalle', 'lufkin', 'bonavista', 'georgetown', 'islamkot', 'port hedland', 'olafsvik', 'cabo san lucas', 'sofiysk', 'alotau', 'beppu', 'gweta', 'yar-sale', 'bathsheba', 'rehoboth', 'tura', 'akhaldaba', 'port blair', 'chickasha', 'guelengdeng', 'barra do garcas', 'sao joao da barra', 'san jeronimo', 'danane', 'tilichiki', 'isla mujeres', 'santona', 'lazaro cardenas', 'ust-kuyga', 'finschhafen', 'lyuban', 'havre-saint-pierre', 'berbera', 'dunda', 'saraland', 'lalsot', 'mumbwa', 'marti', 'kamaishi', 'port moresby', 'laguna', 'bethanien', 'conceicao do araguaia', 'cervo', 'antofagasta', 'novyy urengoy', 'haren', 'ixtapa', 'qazanbulaq', 'gijon', 'nyrob', 'coruripe', 'moron', 'dabat', 'urdoma', 'zykovo', 'chipinge', 'williams lake', 'tuatapere', 'mar del plata', 'penhold', 'talaya', 'gizo', 'kegayli', 'rorvik', 'coahuayana', 'prieska', 'roxas', 'palaia fokaia', 'skalistyy', 'iranshahr', 'guerrero negro', 'stoyba', 'kahului', 'ambovombe', 'narsaq', 'muros', 'inzer', 'lakselv', 'amahai', 'lorengau', 'mnogovershinnyy', 'tawnat', 'asfi', 'sanandaj', 'orlovo', 'george', 'kamenka', 'sao filipe', 'tignere', 'lavrentiya', 'clyde river', 'sao miguel do iguacu', 'velyka oleksandrivka', 'nha trang', 'bam', 'korem', 'stornoway', 'santa maria', 'cap malheureux', 'cravo norte', 'lashio', 'manica', 'mirabad', 'sibirtsevo', 'sarakhs', 'saint-augustin', 'kenitra', 'tabalosos', 'rawson', 'bubaque', 'nabire', 'barbar', 'shimsk', 'adrar', 'carballo', 'kupang', 'boljarovo', 'crab hill', 'gorontalo', 'bowen', 'astoria', 'camana', 'kloulklubed', 'sobolevo', 'muli', 'la ronge', 'zlobin', 'jaunjelgava', 'akyab', 'gulshat', 'alihe', 'ucluelet', 'wajir', 'dongobesh', 'sweetwater', 'khonuu', 'erzincan', 'skorodnoye', 'port-gentil', 'makakilo city', 'riyadh', 'bakuriani', 'sao joaquim', 'dasoguz', 'tucuman', 'shimoda', 'hibbing', 'henties bay', 'mocuba', 'mandsaur', 'erzurum', 'homer', 'sydney', 'goderich', 'bojnurd', 'meulaboh', 'doctor pedro p. pena', 'kailua', 'tyrma', 'noumea', 'yumen', 'saint-georges', 'shunyi', 'ossora', 'beira', 'cairns', 'ponta do sol', 'tocache', 'daru', 'rantepao', 'fortuna', 'zhezkazgan', 'mogadishu', 'aldan', 'honiara', 'pisco', 'hokitika', 'leshukonskoye', 'tubruq', 'palu', 'louisbourg', 'kuche', 'college', 'sitka', 'road town', 'ulagan', 'srednekolymsk', 'klaksvik', 'sinjar', 'hay river', 'bull savanna', 'hamilton', 'mount gambier', 'pacific grove', 'aykhal', 'banganapalle', 'saravan', 'murupara', 'barroquinha', 'baoding', 'eidsvag', 'russell', 'ocampo', 'hoi an', 'portland', 'kavieng', 'buckeye', 'westerland', 'qasigiannguit', 'san vicente', 'bridlington', 'sinazongwe', 'kemptville', 'novoagansk', 'eirunepe', 'kazalinsk', 'sistranda', 'walvis bay', 'dinklage', 'can', 'ahipara', 'peniche', 'southbridge', 'kovur', 'iquique', 'denpasar', 'preobrazheniye', 'elmira', 'grand gaube', 'cockburn town', 'hervey bay', 'vagur', 'leeton', 'brokopondo', 'yenagoa', 'abu samrah', 'esmeraldas', 'ostrovnoy', 'chengde', 'olonets', 'champerico', 'hasaki', 'duayaw nkwanta', 'panacan', 'serzhen-yurt', 'belushya guba', 'mao', 'inhambane', 'aragarcas', 'waddan', 'manggar', 'cerrito', 'naryan-mar', 'korla', 'olavarria', 'sovetskiy', 'zhigansk', 'nyimba', 'duncan', 'santa cruz', 'vila do maio', 'roald', 'belyy yar', 'richards bay', 'ust-kamchatsk', 'lata', 'kattivakkam', 'ostersund', 'sfantu gheorghe', 'yarkovo', 'perevoz', 'banswada', 'tungkang', 'guiratinga', 'nouadhibou', 'oussouye', 'blind river', 'comodoro rivadavia', 'alyangula', 'monterrey', 'kalmunai', 'ternate', 'aktau', 'vrangel', 'kieta', 'aklavik', 'deputatskiy', 'marzuq', 'camargo', 'kamenskoye', 'izhmorskiy', 'beringovskiy', 'pa sang', 'baracoa', 'xapuri', 'yining', 'van buren', 'san andres', 'blagoyevo', 'grants', 'constantine', 'chore', 'biak', 'ardakan', 'pilar', 'darlowo', 'kauhajoki', 'giyon', 'bilibino', 'marcona', 'victor harbor', 'nador', 'suriapet', 'meteti', 'atar', 'hobbs', 'shache', 'port hueneme', 'bandarbeyla', 'vawkavysk', 'carroll', 'forestville', 'normandin', 'bougouni', 'moscow', 'sao francisco de paula', 'severobaykalsk', 'anton lizardo', 'placido de castro', 'kushmurun', 'kijang', 'pedernales', 'otane', 'gravdal']\n"
     ]
    }
   ],
   "source": [
    "city_list = cities\n",
    "print(city_list)"
   ]
  },
  {
   "cell_type": "code",
   "execution_count": null,
   "metadata": {},
   "outputs": [],
   "source": [
    "#set up lists to hold response info\n",
    "lat = []\n",
    "lng = []\n",
    "temp = []\n",
    "temp_max = []\n",
    "humidity = []\n",
    "clouds = []\n",
    "wind = []\n",
    "country = []\n",
    "date = []\n",
    "\n",
    "\n",
    "\n",
    "\n",
    "# Loop through the list of cities and perform a request for data on each.\n",
    "for city in city_list:\n",
    "    response = requests.get(query_url + city).json()\n",
    "    try:\n",
    "        #lat.append(response['coord']['lat'])\n",
    "        #lng.append(response['coord']['lat'])\n",
    "        #temp.append(response['main']['temp'])\n",
    "        #temp_max.append(response['main']['temp_max'])\n",
    "        #humidity.append(response['main']['humidity'])\n",
    "        #clouds.append(response['clouds']['all'])\n",
    "        #wind.append(response['wind']['speed'])\n",
    "        #country.append(repsonse(int['sys']['country']))\n",
    "        date.append(response[\"dt\"])\n",
    "    except: \n",
    "        #print(query_url + city)\n",
    "        #print(\"City has no data\")\n",
    "        #lat.append('NaN')\n",
    "        #lng.append('NaN')\n",
    "        #temp.append('NaN')\n",
    "        #temp_max.append('NaN')\n",
    "        #humidity.append('NaN')\n",
    "        #clouds.append('NaN')\n",
    "        #wind.append('NaN')\n",
    "        #country.append('NaN')\n",
    "        date.append('NaN')\n",
    "    \n",
    "# Get the temp, humidity, cloudiness and wind speed from the response\n",
    "#print(f\"The Latitude information received is: {lat}\")\n",
    "#print(f\"The Longitude infromation received is: {lng}\")\n",
    "#print(f\"The Temperature information received is: {temp}\")\n",
    "#print(f\"The Max Temp information received is: {temp_max}\")\n",
    "#print(f\"The Humidity information received is: {humidity}\")\n",
    "#print(f\"The Cloudiness information received is: {clouds}\")\n",
    "#print(f\"The Wind Speed information received is: {wind}\")\n",
    "#print(f\"The Country information received is: {country}\")\n",
    "print(f\"The Date information received is: {date}\")"
   ]
  },
  {
   "cell_type": "code",
   "execution_count": null,
   "metadata": {},
   "outputs": [],
   "source": [
    "# Create a data frame from cities, lat, temp, humidity, clouds and wind\n",
    "weather_df = {\n",
    "    \"City\": cities,\n",
    "    \"Cloudiness\": clouds,\n",
    "    \"Country\": country,\n",
    "    \"Date\": date,\n",
    "    \"Humidity\": humidity,\n",
    "    \"Lat\": lat,\n",
    "    \"Lng\": lng,\n",
    "    \"Max Temp\": max_temp,\n",
    "    \"Temp\": temp,\n",
    "    \"Wind\": wind,\n",
    "}\n",
    "weather_data = pd.DataFrame(weather_df)\n",
    "weather_data.head()"
   ]
  },
  {
   "cell_type": "code",
   "execution_count": null,
   "metadata": {},
   "outputs": [],
   "source": []
  },
  {
   "cell_type": "code",
   "execution_count": null,
   "metadata": {},
   "outputs": [],
   "source": [
    "# Build a scatter plot for each data type.\n",
    "# Temperature (F) vs. Latitude\n",
    "plt.scatter(weather_data[\"temp\"], weather_data[\"lat\"]. marker=\"o\")\n",
    "\n",
    "# Incorporate the other graph properties\n",
    "plt.title(\"City Latitude vs Max. Temperature ({'date'})\")\n",
    "plt.ylabel(\"Max. Temperature (F)\")\n",
    "plt.xlabel(\"Latitude\")\n",
    "plt.grid(True)\n",
    "\n",
    "# Save the figure\n",
    "plt.savefig(\"CityLatitudeVSMaxTemp.png\")\n",
    "\n",
    "# Show plot\n",
    "plt.show()"
   ]
  },
  {
   "cell_type": "code",
   "execution_count": null,
   "metadata": {},
   "outputs": [],
   "source": [
    "# Build a scatter plot for each data type.\n",
    "# Humidity (%) vs. Latitude\n",
    "plt.scatter(weather_data[\"humidity\"], weather_data[\"lat\"]. marker=\"o\")\n",
    "\n",
    "# Incorporate the other graph properties\n",
    "plt.title(\"City Latitude vs Humidity ({'date'})\")\n",
    "plt.ylabel(\"Humidity (%)\")\n",
    "plt.xlabel(\"Latitude\")\n",
    "plt.grid(True)\n",
    "\n",
    "# Save the figure\n",
    "plt.savefig(\"CityLatitudeVSHumidity.png\")\n",
    "\n",
    "# Show plot\n",
    "plt.show()"
   ]
  },
  {
   "cell_type": "code",
   "execution_count": null,
   "metadata": {},
   "outputs": [],
   "source": [
    "# Build a scatter plot for each data type.\n",
    "# Cloudiness (%) vs. Latitude\n",
    "plt.scatter(weather_data[\"clouds\"], weather_data[\"lat\"]. marker=\"o\")\n",
    "\n",
    "# Incorporate the other graph properties\n",
    "plt.title(\"City Latitude vs Cloudiness ({'date'})\")\n",
    "plt.ylabel(\"Cloudiness (%)\")\n",
    "plt.xlabel(\"Latitude\")\n",
    "plt.grid(True)\n",
    "\n",
    "# Save the figure\n",
    "plt.savefig(\"CityLatitudeVSCloudiness.png\")\n",
    "\n",
    "# Show plot\n",
    "plt.show()"
   ]
  },
  {
   "cell_type": "code",
   "execution_count": null,
   "metadata": {},
   "outputs": [],
   "source": [
    "# Build a scatter plot for each data type.\n",
    "# Wind Speed (mph) vs. Latitude\n",
    "plt.scatter(weather_data[\"wind\"], weather_data[\"lat\"]. marker=\"o\")\n",
    "\n",
    "# Incorporate the other graph properties\n",
    "plt.title(\"City Latitude vs Wind Speed ({'date'})\")\n",
    "plt.ylabel(\"Wind Speed (mph)\")\n",
    "plt.xlabel(\"Latitude\")\n",
    "plt.grid(True)\n",
    "\n",
    "# Save the figure\n",
    "plt.savefig(\"CityLatitudeVSWindSpeed.png\")\n",
    "\n",
    "# Show plot\n",
    "plt.show()"
   ]
  }
 ],
 "metadata": {
  "anaconda-cloud": {},
  "kernelspec": {
   "display_name": "Python 3",
   "language": "python",
   "name": "python3"
  },
  "language_info": {
   "codemirror_mode": {
    "name": "ipython",
    "version": 3
   },
   "file_extension": ".py",
   "mimetype": "text/x-python",
   "name": "python",
   "nbconvert_exporter": "python",
   "pygments_lexer": "ipython3",
   "version": "3.6.5"
  }
 },
 "nbformat": 4,
 "nbformat_minor": 1
}
